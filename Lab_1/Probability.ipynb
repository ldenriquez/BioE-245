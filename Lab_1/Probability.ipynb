{
 "cells": [
  {
   "cell_type": "markdown",
   "metadata": {},
   "source": [
    "# Part 2: Probability Review\n",
    "\n",
    "1) \n",
    "**(a)** You are analyzing the nucleotide composition of an animal genome and you notice a modest AT bias. The genome is 17/32 AT (53.125%) and only 15/32 GC (46.875%). You then start to look at the frequencies of dinucleotides."
   ]
  },
  {
   "cell_type": "code",
   "execution_count": 16,
   "metadata": {},
   "outputs": [],
   "source": [
    "AT = 17/32\n",
    "GC = 15/32"
   ]
  },
  {
   "cell_type": "code",
   "execution_count": 17,
   "metadata": {},
   "outputs": [],
   "source": [
    "C = GC/2\n",
    "AT = 17/31\n",
    "A = AT/2"
   ]
  },
  {
   "cell_type": "code",
   "execution_count": 18,
   "metadata": {},
   "outputs": [
    {
     "name": "stdout",
     "output_type": "stream",
     "text": [
      "Probability of 5'-CpA-3'dinucleotides: 0.0642641129032258\n"
     ]
    }
   ],
   "source": [
    "CpA = C * A\n",
    "print(\"Probability of 5'-CpA-3'dinucleotides:\", CpA)"
   ]
  },
  {
   "cell_type": "code",
   "execution_count": 19,
   "metadata": {},
   "outputs": [
    {
     "name": "stdout",
     "output_type": "stream",
     "text": [
      "Probability of 5'-TpC-3'dinucleotides: 0.06426411290322581\n"
     ]
    }
   ],
   "source": [
    "AT = 17/32\n",
    "GC = 15/32\n",
    "T = AT/2\n",
    "GC = 15/31\n",
    "C = GC/2\n",
    "TpC = T * C\n",
    "print(\"Probability of 5'-TpC-3'dinucleotides:\",TpC)"
   ]
  },
  {
   "cell_type": "markdown",
   "metadata": {},
   "source": [
    "**(b)** You find the dinucleotide frequencies don't match the values calculated for in- dependent nucleotides. For instance, the probability of 5'-CpA-3'dinucleotides is 20/256 (7.813%) whereas the probability of 5'-TpC-3'dinucleotides is 15/256 (5.860%). The dinucleotide frequencies overall are given below, in fractions of 256 and as decimal numbers:"
   ]
  },
  {
   "cell_type": "code",
   "execution_count": 1,
   "metadata": {},
   "outputs": [],
   "source": [
    "import numpy as np\n",
    "import math"
   ]
  },
  {
   "cell_type": "code",
   "execution_count": 3,
   "metadata": {},
   "outputs": [],
   "source": [
    "# dinucleotide frequencies matrix\n",
    "P = np.array([[17/256,16/256,17/256,18/256],\n",
    "              [20/256,15/256,8/256,17/256],\n",
    "              [15/256,14/256,15/256,16/256],\n",
    "              [16/256,15/256,20/256,17/256]])"
   ]
  },
  {
   "cell_type": "code",
   "execution_count": 4,
   "metadata": {},
   "outputs": [
    {
     "name": "stdout",
     "output_type": "stream",
     "text": [
      "[[0.06640625 0.0625     0.06640625 0.0703125 ]\n",
      " [0.078125   0.05859375 0.03125    0.06640625]\n",
      " [0.05859375 0.0546875  0.05859375 0.0625    ]\n",
      " [0.0625     0.05859375 0.078125   0.06640625]]\n"
     ]
    }
   ],
   "source": [
    "print(P)"
   ]
  },
  {
   "cell_type": "code",
   "execution_count": 5,
   "metadata": {},
   "outputs": [
    {
     "name": "stdout",
     "output_type": "stream",
     "text": [
      "Method 1)\n",
      "Probability of A: 0.46484375 \n",
      "\n",
      "Probability of C: 0.41015625 \n",
      "\n",
      "Method 2)\n",
      "Probability of A: 0.460693359375 \n",
      "\n",
      "Probability of C: 0.413818359375 \n",
      "\n"
     ]
    }
   ],
   "source": [
    "# i. Verify the single-nucleotide probabilities of A and C in two different ways.\n",
    "PA_ = np.sum(P[:, 0])\n",
    "P_A = np.sum(P[0,:])\n",
    "PAA = P[0][0]\n",
    "PA = PA_ + P_A - PAA\n",
    "print(\"Method 1)\\nProbability of A:\",PA, \"\\n\")\n",
    "\n",
    "PC_ = np.sum(P[:, 1])\n",
    "P_C = np.sum(P[1,:])\n",
    "PCC = P[1][1]\n",
    "PC = PC_ + P_C - PCC\n",
    "print(\"Probability of C:\",PC, \"\\n\")\n",
    "\n",
    "print(\"Method 2)\\nProbability of A:\",PA_ + P_A - (PA_*P_A), \"\\n\")\n",
    "print(\"Probability of C:\",PC_ + P_C - (PC_*P_C), \"\\n\")"
   ]
  },
  {
   "cell_type": "code",
   "execution_count": 6,
   "metadata": {},
   "outputs": [
    {
     "name": "stdout",
     "output_type": "stream",
     "text": [
      "Prob A following a T:  0.0625 \n",
      "\n",
      "Prob C following a T:  0.05859375 \n",
      "\n",
      "Prob G following a T:  0.078125 \n",
      "\n",
      "Prob T following a T:  0.06640625 \n",
      "\n",
      "Prob Any nucleotide following a T:  0.265625 \n",
      "\n"
     ]
    }
   ],
   "source": [
    "# ii. What are the probabilities of each nucleotide following a T?\n",
    "PTA = P[3][0]\n",
    "PTC = P[3][1]\n",
    "PTG = P[3][2]\n",
    "PTT = P[3][3]\n",
    "#Probability of T being the \"second\" nucleotide\n",
    "PT_ = np.sum(P[:, 3])\n",
    "print(\"Prob A following a T: \", PTA, \"\\n\")\n",
    "print(\"Prob C following a T: \", PTC, \"\\n\")\n",
    "print(\"Prob G following a T: \", PTG, \"\\n\")\n",
    "print(\"Prob T following a T: \", PTT, \"\\n\")\n",
    "print(\"Prob Any nucleotide following a T: \", PT_, \"\\n\")"
   ]
  },
  {
   "cell_type": "code",
   "execution_count": 7,
   "metadata": {},
   "outputs": [
    {
     "name": "stdout",
     "output_type": "stream",
     "text": [
      "Prob A preceding a G:  0.06640625 \n",
      "\n",
      "Prob C preceding a G:  0.03125 \n",
      "\n",
      "Prob G preceding a G:  0.05859375 \n",
      "\n",
      "Prob T preceding a G:  0.078125 \n",
      "\n",
      "Prob Any nucleotide preceding a G:  0.265625\n"
     ]
    }
   ],
   "source": [
    "# iii. What are the probabilities of each nucleotide preceding a G?\n",
    "PAG = P[0][2]\n",
    "PCG = P[1][2]\n",
    "PGG = P[2][2]\n",
    "PTG = P[3][2]\n",
    "#Probability of T being the \"second\" nucleotide\n",
    "P_G = np.sum(P[2,:])\n",
    "print(\"Prob A preceding a G: \", PAG, \"\\n\")\n",
    "print(\"Prob C preceding a G: \", PCG, \"\\n\")\n",
    "print(\"Prob G preceding a G: \", PGG, \"\\n\")\n",
    "print(\"Prob T preceding a G: \", PTG, \"\\n\")\n",
    "print(\"Prob Any nucleotide preceding a G: \", PT_)"
   ]
  },
  {
   "cell_type": "markdown",
   "metadata": {},
   "source": [
    "iv) In the human DNA many cytosines are methylated in CpG pairs resulting in a higher\n",
    "probability of mutation to CpA or TpC. This biological phenomenon could explain the dinucleotide patterns.\n",
    "\n",
    "---\n",
    "\n",
    "\n",
    "2) A bag contains two dice. One is a fair die that rolls 1 through 6 with equal probability. The other is a weighted die that has a one-third chance of rolling a 6, and never rolls a 1. You reach in to the bag, pick one of the two dice (either with equal probability), and roll it.\n",
    "\n",
    "**(a)** Write a table of the joint probabilities of picking the fair or the weighted die, and rolling each number.\n",
    "\n",
    "||Die|Roll 1|Roll 2|Roll 3|Roll 4|Roll 5|Roll 6|\n",
    "|---|---|---|---|---|---|---|---|\n",
    "|fair|1/2|1/6|1/6|1/6|1/6|1/6|1/6|\n",
    "|weighted|1/2|0|1/6|1/6|1/6|1/6|1/3|\n",
    "|total|1|1/12|1/6|1/6|1/6|1/6|1/4|"
   ]
  },
  {
   "cell_type": "code",
   "execution_count": 3,
   "metadata": {},
   "outputs": [],
   "source": [
    "table = np.array([[1/2, 1/6, 1/6, 1/6, 1/6, 1/6, 1/6],\n",
    "                  [1/2, 0, 1/6, 1/6, 1/6, 1/6, 1/3], \n",
    "                  [1, 1/12, 1/6, 1/6, 1/6, 1/6, 1/4]])"
   ]
  },
  {
   "cell_type": "code",
   "execution_count": 5,
   "metadata": {},
   "outputs": [
    {
     "name": "stdout",
     "output_type": "stream",
     "text": [
      "P(six|fair): 0.0625 \n",
      "\n",
      "P(six|weighted): 0.14285714285714285\n"
     ]
    }
   ],
   "source": [
    "#(b) Compute the conditional probabilities P(six|fair),P(six|weighted).\n",
    "P6_f = ((1/6)*(1/4))/((1/6)*(1/4) + (3/4)*(5/6))\n",
    "P6_w = ((1/3)*(1/4))/((1/3)*(1/4) + (3/4)*(4/6))\n",
    "print(\"P(six|fair):\", P6_f,\"\\n\")\n",
    "print(\"P(six|weighted):\", P6_w )"
   ]
  },
  {
   "cell_type": "code",
   "execution_count": 74,
   "metadata": {},
   "outputs": [
    {
     "name": "stdout",
     "output_type": "stream",
     "text": [
      "P(fair|six): 0.3333333333333333 \n",
      "\n",
      "P(weighted|six): 0.6666666666666666\n"
     ]
    }
   ],
   "source": [
    "#(c) Compute the conditional probabilities P(fair|six),P(weighted|six).\n",
    "Pf_6 = ((1/6)*(1/2))/((1/6)*(1/2) + (1/3)*(1/2))\n",
    "Pw_6 = ((1/3)*(1/2))/((1/3)*(1/2) + (1/6)*(1/2))\n",
    "print(\"P(fair|six):\", Pf_6,\"\\n\")\n",
    "print(\"P(weighted|six):\", Pw_6)"
   ]
  }
 ],
 "metadata": {
  "kernelspec": {
   "display_name": "Python 3",
   "language": "python",
   "name": "python3"
  },
  "language_info": {
   "codemirror_mode": {
    "name": "ipython",
    "version": 3
   },
   "file_extension": ".py",
   "mimetype": "text/x-python",
   "name": "python",
   "nbconvert_exporter": "python",
   "pygments_lexer": "ipython3",
   "version": "3.7.4"
  }
 },
 "nbformat": 4,
 "nbformat_minor": 2
}
