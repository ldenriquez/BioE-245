{
 "cells": [
  {
   "cell_type": "markdown",
   "metadata": {},
   "source": [
    "# Assignment 3\n",
    "**Author**: Lauren Enriquez\n",
    "\n",
    "---\n",
    "\n",
    "### 2. **Poisson Counts** "
   ]
  },
  {
   "cell_type": "markdown",
   "metadata": {},
   "source": [
    "**a)** Find expressions for the Poisson parameters for each of the two hypotheses: λ<sub>0</sub> for H<sub>0</sub> and λ<sub>x</sub>,λ<sub>y</sub> for H<sub>a</sub> <br/>\n",
    "**(All 10 datapoints)**<br/>\n",
    "λ<sub>0</sub> = $\\frac{1}{10}$ * $\\sum_{i=0}^{10} (x_i)$<br/><br/>\n",
    "**(Condition 1)**<br/>\n",
    "λ<sub>x</sub> = $\\frac{1}{5}$ * $\\sum_{i=0}^{5} (x_i)$<br/><br/>\n",
    "**(Condition 2)**<br/>\n",
    "λ<sub>y</sub> = $\\frac{1}{5}$ * $\\sum_{i=5}^{5} (x_i)$<br/>\n",
    "\n",
    "---"
   ]
  },
  {
   "cell_type": "code",
   "execution_count": 1,
   "metadata": {},
   "outputs": [],
   "source": [
    "import pandas as pd\n",
    "import numpy as np\n",
    "import math\n",
    "from math import log as log\n",
    "from scipy.stats import poisson\n",
    "import matplotlib.pyplot as plt\n",
    "import matplotlib\n",
    "from scipy.optimize import curve_fit "
   ]
  },
  {
   "cell_type": "markdown",
   "metadata": {},
   "source": [
    "**b)** Compute the lambdas by implementing your answer from Q2.a using the provided dataset. "
   ]
  },
  {
   "cell_type": "code",
   "execution_count": 2,
   "metadata": {},
   "outputs": [],
   "source": [
    "# Imports the information from the tsv file into a pandas dataframe, saved as gene1\n",
    "gene1 = pd.DataFrame(pd.read_table('q2_set_1.tsv',delim_whitespace = True,header=0))"
   ]
  },
  {
   "cell_type": "code",
   "execution_count": 3,
   "metadata": {},
   "outputs": [],
   "source": [
    "# Creates an array of all the values in the gene1 dataframe\n",
    "array1 = gene1.iloc[0,:].values"
   ]
  },
  {
   "cell_type": "code",
   "execution_count": 4,
   "metadata": {},
   "outputs": [],
   "source": [
    "# Calculates the lambdas for the two hypotheses using the expression above\n",
    "\n",
    "# Calculates lambda for H0\n",
    "λ0 = (1/10) * np.sum(array1)\n",
    "\n",
    "# Calculates the lambdas for Ha\n",
    "λx = (1/5) * array1[:5].sum()\n",
    "λy = (1/5) * array1[5:].sum()"
   ]
  },
  {
   "cell_type": "code",
   "execution_count": 5,
   "metadata": {},
   "outputs": [
    {
     "name": "stdout",
     "output_type": "stream",
     "text": [
      "λ0:  5889.400000000001 \n",
      "\n",
      "λx:  5902.6 \n",
      "\n",
      "λy:  5876.200000000001\n"
     ]
    }
   ],
   "source": [
    "#Displays the values for the lambdas calculated for each hypothesis\n",
    "print(\"λ0: \", λ0, \"\\n\")\n",
    "print(\"λx: \", λx, \"\\n\")\n",
    "print(\"λy: \", λy,)"
   ]
  },
  {
   "cell_type": "markdown",
   "metadata": {},
   "source": [
    "---\n",
    "**c)** Find expressions for L<sub>0</sub> and L<sub>a</sub>, the likelihoods for the two hypotheses. <br/>\n",
    "L<sub>0</sub> = $\\pi_{i=0}^{10} $ P<sub>λ<sub>0</sub></sub>(X = x<sub>i</sub></sub>) = $\\pi_{i=0}^{10}$ ($\\frac{λ_0^{x_i}e^{-λ_0}}{x_i !}$)\n",
    "\n",
    "<br/><br/>\n",
    "x = Condition 1 **|** y = Condition 2\n",
    "\n",
    "L<sub>a</sub> = $\\pi$<sub>i</sub> P<sub>λ<sub>a</sub></sub>(X = x<sub>i</sub></sub>) = $\\pi_{i=0}^{10}$ ($\\frac{λ_a^{x_i}e^{-λ_a}}{x_i !}$) = $\\pi_{i=0}^{5}$ ($\\frac{λ_x^{x_i}e^{-λ_x}}{x_i !}$) * $\\pi_{i=5}^{5}$ ($\\frac{λ_y^{x_i}e^{-λ_y}}{x_i !}$)\n",
    "\n",
    "<br/><br/>\n",
    "Coding:<br/>\n",
    "P<sub>λ</sub>(X = x<sub>i</sub></sub>) = $\\frac{λ^{x_i}e^{-λ}}{x_i !}$ = poisson.pmf(x<sub>i</sub></sub> , λ)\n",
    "\n",
    "---\n",
    "\n",
    "**e)** Using the likelihood ratio test for a p-value of 0.05 (using a χ2 table for 1 degree of freedom), can you safely reject the null hypothesis?"
   ]
  },
  {
   "cell_type": "code",
   "execution_count": 6,
   "metadata": {},
   "outputs": [
    {
     "name": "stdout",
     "output_type": "stream",
     "text": [
      "log likelihood of L0:  2.26552438075688e-24\n"
     ]
    }
   ],
   "source": [
    "# Calculates the log likelihood of L0\n",
    "Pnull = [poisson.pmf(array1[i],λ0) for i in range(len(array1))]\n",
    "Pnull = np.product(Pnull)\n",
    "print('log likelihood of L0: ', Pnull)"
   ]
  },
  {
   "cell_type": "code",
   "execution_count": 7,
   "metadata": {},
   "outputs": [
    {
     "name": "stdout",
     "output_type": "stream",
     "text": [
      "log likelihood of La:  2.626712736549337e-24\n"
     ]
    }
   ],
   "source": [
    "# Calculates the log likelihood of La\n",
    "\n",
    "# Calculates the log likelihood of Condition 1\n",
    "Px = [poisson.pmf(array1[i],λx) for i in range(0,5)]\n",
    "Px = np.product(Px)\n",
    "\n",
    "# Calculates the log likelihood of Condition 2\n",
    "Py = [poisson.pmf(array1[i],λy) for i in range(5,10)]\n",
    "Py = np.product(Py)\n",
    "\n",
    "# Calculates the log likelihood for La\n",
    "Palt = Px * Py\n",
    "print('log likelihood of La: ', Palt)"
   ]
  },
  {
   "cell_type": "code",
   "execution_count": 8,
   "metadata": {},
   "outputs": [
    {
     "name": "stdout",
     "output_type": "stream",
     "text": [
      "log likelihood ratio (LR):  0.29585381504148267\n"
     ]
    }
   ],
   "source": [
    "# Calculates the log likelihood ratio\n",
    "LR = -2 * log(Pnull/Palt)\n",
    "print('log likelihood ratio (LR): ',LR)"
   ]
  },
  {
   "cell_type": "markdown",
   "metadata": {},
   "source": [
    "0.29585381504148267 is less than 3.841 (the $chi^2$ value with 1 degree of freedom). Therefore, we **do not** reject the null hypothesis.\n",
    "\n",
    "---\n",
    "\n",
    "### 3. **Comparing Distributions** "
   ]
  },
  {
   "cell_type": "code",
   "execution_count": 9,
   "metadata": {},
   "outputs": [],
   "source": [
    "# Imports the information from the tsv files into two pandas dataframes, saved as data_set and data_set2\n",
    "data_set = pd.DataFrame(pd.read_table('q3_set_1.tsv',delim_whitespace = True,header=0))\n",
    "data_set2 = pd.DataFrame(pd.read_table('q3_set_2.tsv',delim_whitespace = True,header=0))"
   ]
  },
  {
   "cell_type": "code",
   "execution_count": 10,
   "metadata": {},
   "outputs": [],
   "source": [
    "# Creates an 2D array of all the values each of the datasets (1 and 2) \n",
    "data_set1 = data_set.iloc[:,:].values\n",
    "data_set2 = data_set2.iloc[:,:].values"
   ]
  },
  {
   "cell_type": "markdown",
   "metadata": {},
   "source": [
    "**a)** Finds mean and variance for each gene, under each condition, for both sets."
   ]
  },
  {
   "cell_type": "code",
   "execution_count": 11,
   "metadata": {},
   "outputs": [],
   "source": [
    "# Creates an array of each Mean and Variance, for each gene, under each condition in Data Set 1\n",
    "mean1a= [(data_set1[i][:5].mean()) for i in range(len(data_set1))]\n",
    "mean1b = [(data_set1[i][5:].mean()) for i in range(len(data_set1))]\n",
    "var1a = [(data_set1[i][:5].var()) for i in range(len(data_set1))]\n",
    "var1b = [(data_set1[i][5:].var()) for i in range(len(data_set1))]\n",
    "\n",
    "# Creates an array of each Mean and Variance, for each gene, under each condition in Data Set 2\n",
    "mean2a= [(data_set2[i][:5].mean()) for i in range(len(data_set2))]\n",
    "mean2b = [(data_set2[i][5:].mean()) for i in range(len(data_set2))]\n",
    "var2a = [(data_set2[i][:5].var()) for i in range(len(data_set2))]\n",
    "var2b = [(data_set2[i][5:].var()) for i in range(len(data_set2))]"
   ]
  },
  {
   "cell_type": "markdown",
   "metadata": {},
   "source": [
    "---\n",
    "**b)** Create two separate plots for the 2 datasets, plotting the previously found means against variances. Determine which distribution is the basis for each (just based on visual interpretation)."
   ]
  },
  {
   "cell_type": "code",
   "execution_count": 12,
   "metadata": {},
   "outputs": [
    {
     "data": {
      "image/png": "[encoded data removed]",
      "text/plain": [
       "<Figure size 1080x432 with 2 Axes>"
      ]
     },
     "metadata": {
      "needs_background": "light"
     },
     "output_type": "display_data"
    }
   ],
   "source": [
    "# Creates a figure with two subplots of the previously found means vs variances for each data set\n",
    "fig, (ax1, ax2) = plt.subplots(1,2, figsize=(15,6))\n",
    "\n",
    "# Dataset 1\n",
    "ax1.set_title('Dataset 1')\n",
    "ax1.scatter(mean1a,var1a, c = 'blue', marker = 'x', linewidths = 0.5)\n",
    "ax1.scatter(mean1b,var1b, c = 'red', marker = 'x', linewidths = 0.5)\n",
    "ax1.set_ylabel('variance')\n",
    "ax1.set_xlabel('mean')\n",
    "ax1.legend(('Condition 1', 'Condition 2'), loc='upper left', shadow=True)\n",
    "\n",
    "# Dataset 2\n",
    "ax2.set_title('Dataset 2')\n",
    "ax2.scatter(mean2a,var2a, c = 'blue', marker = 'x', linewidths = 0.5)\n",
    "ax2.scatter(mean2b,var2b, c = 'red', marker = 'x', linewidths = 0.5)\n",
    "ax2.set_ylabel('variance')\n",
    "ax2.set_xlabel('mean')\n",
    "ax2.legend(('Condition 1', 'Condition 2'), loc='upper left', shadow=True)\n",
    "plt.show()"
   ]
  },
  {
   "cell_type": "markdown",
   "metadata": {},
   "source": [
    "Visually, Dataset 1 appears to have a **Poisson distribution**. Dataset 2 appears to have **negative binomial (Pascal) distribution**. \n",
    "\n",
    "---\n",
    "\n",
    "**c)** Analysis of Individual Genes As stated before, each dataset contains counts for genes expressed in two conditions. Many genes will be expressed similarly across both conditions, though not all.\n",
    "\n",
    "\n",
    "**i.** For each gene (and for both datasets), determine if there is a statistical difference in expression counts across the two conditions using the likelihood ratio test as in Q2, assuming a Poisson distribution for both."
   ]
  },
  {
   "cell_type": "code",
   "execution_count": 13,
   "metadata": {},
   "outputs": [],
   "source": [
    "# Function that conducts the Log likelihood test\n",
    "    #INPUT: an 2D array of count values\n",
    "def LR_test(data, ep = 1e-150):\n",
    "    \n",
    "    # Calculates the lambdas for the two hypotheses in the dataset\n",
    "        # Calculates lambda for H0\n",
    "    λ = [((1/10) * np.sum(data[i])) for i in range(len(data))]\n",
    "    \n",
    "        # Calculates the lambdas for Ha\n",
    "    λa = [((1/5) * data[i][:5].sum()) for i in range(len(data))]\n",
    "    λb = [((1/5) * data[i][5:].sum()) for i in range(len(data))]\n",
    "    \n",
    "    \n",
    "    # Calculates the log likelihood of L0 (null hypothesis) for each gene in the dataset\n",
    "    Pnull = [np.prod(poisson.pmf((data[i]),λ[i])) for i in range(len(data)) ]\n",
    "     \n",
    "    # Calculates the log likelihood of La (alternative hypothesis) for each gene in the dataset\n",
    "        # Calculates the log likelihood of Condition 1\n",
    "    Pa = [np.prod(poisson.pmf((data[i][:5]),λa[i])) for i in range(len(data))]\n",
    "    \n",
    "        # Calculates the log likelihood of Condition 2\n",
    "    Pb = [np.prod(poisson.pmf((data[i][5:]),λb[i])) for i in range(len(data))]\n",
    "    \n",
    "        # Calculates the log likelihood of La for each gene\n",
    "    Palt = [(Pa[i] * Pb[i]) for i in range(len(data))]\n",
    "    \n",
    "    # Calculates the log likelihood ratio for each gene in the dataset\n",
    "    LR = [(-2 * log((Pnull[i] + ep) / (Palt[i] + ep))) for i in range(len(data))]\n",
    "    \n",
    "    # Determines if one can safely reject the null hypothesis given 1 degree of freedom (x^2) = 3.841 \n",
    "    reject_null = []\n",
    "    SD = []\n",
    "    for i in range(len(data)):\n",
    "        if LR[i] > 3.841:\n",
    "            reject_null.append('Yes')\n",
    "            SD.append('Yes')\n",
    "        else:\n",
    "            reject_null.append('No')\n",
    "            SD.append('No')\n",
    "    \n",
    "    # Creates a dataframe of the results for each gene\n",
    "    output = {'Log Likelihood': LR, '      Reject Null?': reject_null, '       Statistical difference?':SD}\n",
    "    rows = ['gene' + str(x+1) for x in range(0,1000)]\n",
    "    table = pd.DataFrame(data=output)\n",
    "    table.index = rows\n",
    "    \n",
    "    return table\n",
    "    "
   ]
  },
  {
   "cell_type": "code",
   "execution_count": 14,
   "metadata": {},
   "outputs": [
    {
     "name": "stdout",
     "output_type": "stream",
     "text": [
      "          Log Likelihood       Reject Null?        Statistical difference?\n",
      "gene1           0.295854                 No                             No\n",
      "gene2           1.553045                 No                             No\n",
      "gene3         584.689818                Yes                            Yes\n",
      "gene4           0.013741                 No                             No\n",
      "gene5           0.218731                 No                             No\n",
      "...                  ...                ...                            ...\n",
      "gene996       581.397316                Yes                            Yes\n",
      "gene997         0.154034                 No                             No\n",
      "gene998         2.383899                 No                             No\n",
      "gene999         3.446195                 No                             No\n",
      "gene1000        2.268476                 No                             No\n",
      "\n",
      "[1000 rows x 3 columns]\n"
     ]
    }
   ],
   "source": [
    "# Determines if there is a statistical difference in expression counts across the two conditions for each gene\n",
    "#Dataset 1\n",
    "LR_1 = LR_test(data_set1)\n",
    "print(LR_1)"
   ]
  },
  {
   "cell_type": "code",
   "execution_count": 15,
   "metadata": {},
   "outputs": [
    {
     "name": "stdout",
     "output_type": "stream",
     "text": [
      "          Log Likelihood       Reject Null?        Statistical difference?\n",
      "gene1          95.084609                Yes                            Yes\n",
      "gene2           2.600694                 No                             No\n",
      "gene3         494.056755                Yes                            Yes\n",
      "gene4           0.242441                 No                             No\n",
      "gene5           2.786425                 No                             No\n",
      "...                  ...                ...                            ...\n",
      "gene996       512.812789                Yes                            Yes\n",
      "gene997         2.036084                 No                             No\n",
      "gene998         9.073395                Yes                            Yes\n",
      "gene999         0.389229                 No                             No\n",
      "gene1000        0.791568                 No                             No\n",
      "\n",
      "[1000 rows x 3 columns]\n"
     ]
    }
   ],
   "source": [
    "# Determines if there is a statistical difference in expression counts across the two conditions for each gene\n",
    "#Dataset 2\n",
    "LR_2 = LR_test(data_set2)\n",
    "print(LR_2)"
   ]
  },
  {
   "cell_type": "markdown",
   "metadata": {},
   "source": [
    "---\n",
    "**ii.** Compare between datasets the number of significant differences in gene expression across the two conditions i.e. number of genes expressed differently in dataset 1 vs. dataset 2. Using this comparison, determine the underlying distribution for each dataset. Briefly explain why (<10 words)."
   ]
  },
  {
   "cell_type": "code",
   "execution_count": 16,
   "metadata": {},
   "outputs": [
    {
     "name": "stdout",
     "output_type": "stream",
     "text": [
      "Dataset 1 : Total number of significant differences in gene expression\n",
      "No     861\n",
      "Yes    139\n",
      "Name:        Statistical difference?, dtype: int64\n"
     ]
    }
   ],
   "source": [
    "# Determines the total number of significant differences in gene expression for Dataset 1\n",
    "print('Dataset 1 : Total number of significant differences in gene expression')\n",
    "print(LR_1['       Statistical difference?'].value_counts())"
   ]
  },
  {
   "cell_type": "code",
   "execution_count": 17,
   "metadata": {},
   "outputs": [
    {
     "name": "stdout",
     "output_type": "stream",
     "text": [
      "Dataset 2 : Total number of significant differences in gene expression\n",
      "No     632\n",
      "Yes    368\n",
      "Name:        Statistical difference?, dtype: int64\n"
     ]
    }
   ],
   "source": [
    "# Determines the total number of significant differences in gene expression for Dataset 2\n",
    "print('Dataset 2 : Total number of significant differences in gene expression')\n",
    "print(LR_2['       Statistical difference?'].value_counts())"
   ]
  },
  {
   "cell_type": "markdown",
   "metadata": {},
   "source": [
    "In **Dataset 1**, there were **139 genes** that were significantly different.<br> In **Dataset 2**, there were **368 genes** that were significantly different. <br><br>\n",
    "**Dataset 1** has a **Poisson Distribution**.<br>**Dataset 2** has a **negative binomial (Pascal) distribution**.<br><br>Poisson model is compatible with Dataset 1 because 86.1% of the genes have accepted the null hypothesis."
   ]
  }
 ],
 "metadata": {
  "kernelspec": {
   "display_name": "Python 3",
   "language": "python",
   "name": "python3"
  },
  "language_info": {
   "codemirror_mode": {
    "name": "ipython",
    "version": 3
   },
   "file_extension": ".py",
   "mimetype": "text/x-python",
   "name": "python",
   "nbconvert_exporter": "python",
   "pygments_lexer": "ipython3",
   "version": "3.7.4"
  }
 },
 "nbformat": 4,
 "nbformat_minor": 2
}
