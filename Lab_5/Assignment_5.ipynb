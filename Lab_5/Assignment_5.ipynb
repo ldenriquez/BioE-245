{
 "cells": [
  {
   "cell_type": "markdown",
   "metadata": {
    "colab_type": "text",
    "id": "fCztPzhn8wZp"
   },
   "source": [
    "# Assignment 5: Gradient Descent - Linear Regression\n",
    "**Lauren Enriquez**"
   ]
  },
  {
   "cell_type": "code",
   "execution_count": 1,
   "metadata": {
    "colab": {},
    "colab_type": "code",
    "id": "Nc-14RLZcH31"
   },
   "outputs": [],
   "source": [
    "import numpy as np\n",
    "import matplotlib.pyplot as plt\n",
    "import sklearn.datasets\n",
    "import sklearn.model_selection"
   ]
  },
  {
   "cell_type": "code",
   "execution_count": 2,
   "metadata": {
    "colab": {},
    "colab_type": "code",
    "id": "Gcsj0iecTRWP"
   },
   "outputs": [],
   "source": [
    "# Set up data \n",
    "diabetes_X, diabetes_y = sklearn.datasets.load_diabetes(return_X_y = True)\n",
    "# Split into train and test sets\n",
    "split = sklearn.model_selection.train_test_split(diabetes_X, diabetes_y)\n",
    "diabetes_X_train, diabetes_X_test, diabetes_y_train, diabetes_y_test = split"
   ]
  },
  {
   "cell_type": "markdown",
   "metadata": {
    "colab_type": "text",
    "id": "zvHU9OiTcLgt"
   },
   "source": [
    "## 1. Loss Functions\n",
    "\n",
    "In this exercise we'll be considering a simple linear model:\n",
    "\n",
    "$$y \\approx \\theta x$$\n",
    "\n",
    "The hypothesis for the model is written as\n",
    "\n",
    "$$h(\\theta) = \\theta x$$\n",
    "\n",
    "### a. Fill in the following methods for the loss functions and their derivatives.\n"
   ]
  },
  {
   "cell_type": "code",
   "execution_count": 3,
   "metadata": {
    "colab": {},
    "colab_type": "code",
    "id": "8z1kDe-8fwbg"
   },
   "outputs": [],
   "source": [
    "def squared_loss(X, theta, y):\n",
    "    \"\"\"\n",
    "    Returns the squared loss\n",
    "    \n",
    "    Input:\n",
    "    X: n length vector - n datapoints\n",
    "    theta: scalar\n",
    "    y: n length vector\n",
    "    \n",
    "    Output:\n",
    "    loss: scalar\n",
    "    \"\"\"\n",
    "    # TODO:\n",
    "    loss = np.sum((y - theta*X)**2)\n",
    "\n",
    "    return loss"
   ]
  },
  {
   "cell_type": "code",
   "execution_count": 4,
   "metadata": {
    "colab": {},
    "colab_type": "code",
    "id": "vruF1dde7NLh"
   },
   "outputs": [],
   "source": [
    "def squared_deriv(X, theta, y):\n",
    "    \"\"\"\n",
    "    Returns the gradient wrt theta of the squared loss\n",
    "    \n",
    "    Input:\n",
    "    X: n length vector - n datapoints\n",
    "    theta: scalar\n",
    "    y: n length vector\n",
    "    \n",
    "    Output:\n",
    "    grad: scalar\n",
    "    \"\"\"\n",
    "    # TODO:\n",
    "    grad = np.sum(-2 * X * (y - (theta* X)))\n",
    "\n",
    "    return grad"
   ]
  },
  {
   "cell_type": "code",
   "execution_count": 5,
   "metadata": {
    "colab": {},
    "colab_type": "code",
    "id": "4jFOdAa0gYyx"
   },
   "outputs": [],
   "source": [
    "def abs_loss(X, theta, y):\n",
    "    \"\"\"\n",
    "    Returns the absolute value loss\n",
    "    \n",
    "    Input:\n",
    "    X: n length vector - n datapoints\n",
    "    theta: scalar\n",
    "    y: n length vector\n",
    "    \n",
    "    Output:\n",
    "    loss: scalar\n",
    "    \"\"\"\n",
    "    # TODO:\n",
    "    loss = np.sum(abs(y - theta*X))\n",
    "\n",
    "    return loss"
   ]
  },
  {
   "cell_type": "code",
   "execution_count": 6,
   "metadata": {
    "colab": {},
    "colab_type": "code",
    "id": "saxUgAYrgxLV"
   },
   "outputs": [],
   "source": [
    "def abs_deriv(X, theta, y):\n",
    "    \"\"\"\n",
    "    Returns the gradient wrt theta of the absolute loss\n",
    "    \n",
    "    Input:\n",
    "    X: n length vector - n datapoints\n",
    "    theta: scalar\n",
    "    y: n length vector\n",
    "    \n",
    "    Output:\n",
    "    grad: scalar\n",
    "    \"\"\"\n",
    "    # TODO:\n",
    "    grad = np.sum(-X * (y - theta * X)/ (abs(y - theta * X)))\n",
    "\n",
    "    return grad"
   ]
  },
  {
   "cell_type": "markdown",
   "metadata": {
    "colab_type": "text",
    "id": "pXXkxnha8sDf"
   },
   "source": [
    "### b. Plot the loss and the gradient for the provided data, simple_x and simple_y\n",
    "\n",
    "In other words, compute an array of losses + gradients with pos_theta (find  loss and gradient for each possible theta)."
   ]
  },
  {
   "cell_type": "code",
   "execution_count": 7,
   "metadata": {
    "colab": {},
    "colab_type": "code",
    "id": "zsuoZEwM8q3d"
   },
   "outputs": [
    {
     "data": {
      "image/png": "[encoded data removed]",
      "text/plain": [
       "<Figure size 576x432 with 1 Axes>"
      ]
     },
     "metadata": {
      "needs_background": "light"
     },
     "output_type": "display_data"
    }
   ],
   "source": [
    "# Data you'll use with the above methods\n",
    "simple_x = np.arange(-20,20,0.5)\n",
    "\n",
    "# Yields a float between 3 and 7\n",
    "true_theta = 4*np.random.random_sample()+3\n",
    "# Add noise and scale y\n",
    "simple_y = true_theta*simple_x + np.random.normal(scale = 10, size=simple_x.shape)\n",
    "\n",
    "plt.figure(figsize = (8,6))\n",
    "plt.title(\"Simple Data for Linear Regression\")\n",
    "plt.scatter(simple_x, simple_y, linewidths=0.5)\n",
    "plt.show()"
   ]
  },
  {
   "cell_type": "code",
   "execution_count": 8,
   "metadata": {
    "colab": {},
    "colab_type": "code",
    "id": "ag-8NaC2ALHK"
   },
   "outputs": [],
   "source": [
    "# Possible theta values (to iterate through)\n",
    "pos_theta = np.arange(0, 10, 0.01)"
   ]
  },
  {
   "cell_type": "code",
   "execution_count": 9,
   "metadata": {
    "colab": {},
    "colab_type": "code",
    "id": "jq3YBLBGFSaM"
   },
   "outputs": [
    {
     "data": {
      "image/png": "[encoded data removed]",
      "text/plain": [
       "<Figure size 576x720 with 2 Axes>"
      ]
     },
     "metadata": {
      "needs_background": "light"
     },
     "output_type": "display_data"
    }
   ],
   "source": [
    "# Plot squared loss and gradient\n",
    "plt.figure(figsize=(8,10))\n",
    "plt.suptitle(\"Squared Loss Function\")\n",
    "plt.subplots_adjust(hspace=0.2)\n",
    "plt.subplot(2,1,1)\n",
    "\n",
    "# TODO: Find and plot loss\n",
    "loss = [squared_loss(simple_x,theta,simple_y) for theta in pos_theta]\n",
    "\n",
    "plt.plot(pos_theta,loss)\n",
    "plt.title(\"Loss\")\n",
    "\n",
    "plt.subplot(2,1,2)\n",
    "\n",
    "# TODO: Find and plot gradient\n",
    "\n",
    "grad = [squared_deriv(simple_x,theta, simple_y) for theta in pos_theta]\n",
    "plt.plot(pos_theta,grad)\n",
    "plt.plot(pos_theta, np.zeros_like(pos_theta))\n",
    "plt.title(\"Gradient\")\n",
    "plt.xlabel(\"Theta\")\n",
    "\n",
    "plt.show()"
   ]
  },
  {
   "cell_type": "code",
   "execution_count": 10,
   "metadata": {
    "colab": {},
    "colab_type": "code",
    "id": "YOSVrgfSSKY6"
   },
   "outputs": [
    {
     "data": {
      "image/png": "[encoded data removed]",
      "text/plain": [
       "<Figure size 576x720 with 2 Axes>"
      ]
     },
     "metadata": {
      "needs_background": "light"
     },
     "output_type": "display_data"
    }
   ],
   "source": [
    "# Plot absolute loss and gradient\n",
    "plt.figure(figsize=(8,10))\n",
    "plt.suptitle(\"Absolute Loss Function\")\n",
    "plt.subplots_adjust(hspace=0.2)\n",
    "plt.subplot(2,1,1)\n",
    "\n",
    "# TODO: Find and plot loss\n",
    "loss1 = [abs_loss(simple_x,pos_theta[i],simple_y) for i in range(len(pos_theta))]\n",
    "plt.plot(pos_theta,loss1)\n",
    "plt.title(\"Loss\")\n",
    "\n",
    "plt.subplot(2,1,2)\n",
    "\n",
    "# TODO: Find and plot gradient\n",
    "grad1 = [abs_deriv(simple_x,theta, simple_y) for theta in pos_theta]\n",
    "plt.plot(pos_theta,grad1)\n",
    "plt.plot(pos_theta, np.zeros_like(pos_theta))\n",
    "plt.title(\"Gradient\")\n",
    "plt.xlabel(\"Theta\")\n",
    "\n",
    "plt.show()"
   ]
  },
  {
   "cell_type": "markdown",
   "metadata": {
    "colab_type": "text",
    "id": "KTffZoO2SQkF"
   },
   "source": [
    "### c. Given that the gradient descent algorithm uses the first derivative to  find a local minimum, which of the above loss functions is preferable for linear regression using gradient descent? Briefly explain using the above plots.\n",
    "\n",
    "#### Answer:\n",
    "\n",
    "TODO: The **squared loss function is preferable** since it is a continous function and differentiable. Solving for $\\theta$ when the gradient (derivative of the squared loss function) is 0 is managable. The graph of the gradient using the squared loss function can easily illustrate at which $\\theta$ value the gradient is zero.<br><br> On the other hand, the absolute loss function is continous and differentiable everywhere **except at the point x = 0**. Therefore, is not possible to solve for $\\theta$ when the gradient (derivative of the absolute loss function) is 0. With the absolute loss function, it is more difficult to to visually determine at which $\\theta$ value the gradient is zero.\n"
   ]
  },
  {
   "cell_type": "markdown",
   "metadata": {
    "colab_type": "text",
    "id": "eRa1zrwFT4EU"
   },
   "source": [
    "## 2. Gradient Descent Linear Regression\n",
    "\n",
    "Here you'll implement a linear regressor using gradient descent and the diabetes dataset initialized at the top of this assignment. Using the L2-norm squared loss function, the gradient descent algorithm will follow the below given formula to update the parameters and find the optimal solution.\n",
    "______\n",
    "The model:\n",
    "\n",
    "$$ y \\approx X w $$\n",
    "\n",
    "Hypothesis:\n",
    "\n",
    "$$ h(w) = Xw $$\n",
    "______\n",
    "**Gradient Descent Update Function:**\n",
    "\n",
    "$$ w_{n+1} = w_n - \\alpha \\nabla L(w_n) $$\n",
    "\n",
    "Due to the relatively small size of the dataset, use all datapoints for computing the gradient (also known as batch gradient descent - compare to stochastic gradient descent, an optimization over batch).\n",
    "\n",
    "_____\n",
    "\n",
    "The L2-norm squared loss for this model is written as\n",
    "\n",
    "$$ L(w) = ||X w - y ||^2_2 $$\n",
    "\n",
    "_____\n",
    "\n",
    "### a. Find the gradient of the loss function with respect to w.\n",
    "\n",
    "Answer:\n",
    "\n",
    "TODO:  $$L(w) = (Xw − y)^T(Xw − y) = ||Xw − y||^2_2  = (X^Tw - y)^2$$\n",
    "\n",
    "$$ ∇L(w) = 2(X^Tw - y) \\frac{∂}{∂w}(X^Tw-y) $$\n",
    "\n",
    "$$ ∇L(w) = 2(X^Tw-y)(X^T) $$\n",
    "\n",
    "$$ ∇L(w) = 2X^T(Xw − y) $$\n"
   ]
  },
  {
   "cell_type": "markdown",
   "metadata": {
    "colab_type": "text",
    "id": "URs8LQqpkKN7"
   },
   "source": [
    "### b. Implement the following methods to perform linear regression using gradient descent."
   ]
  },
  {
   "cell_type": "code",
   "execution_count": 11,
   "metadata": {
    "colab": {},
    "colab_type": "code",
    "id": "ALoDcIeJSv3y"
   },
   "outputs": [],
   "source": [
    "from numpy import linalg \n",
    "def gd_linreg(X, y, alpha, loss_func, derivative_func, epsilon=0.001, max_iters=10000):\n",
    "    \"\"\"\n",
    "    Performs linear regression on X and y using gradient descent\n",
    "\n",
    "    Input:\n",
    "    X: n x m matrix - n datapoints, m features\n",
    "    y: n length vector\n",
    "    alpha: step size for gradient descent update\n",
    "    loss_func: method to compute loss between two quantities\n",
    "    derivative_func: method to compute gradient wrt w\n",
    "    epsilon: maximum difference between the w_n+1 and w_n for convergence \n",
    "\n",
    "    Output:\n",
    "    w: m length vector - weights for each feature of a data point\n",
    "    losses: array of losses at each step/iteration\n",
    "    \"\"\"\n",
    "    # TODO:\n",
    "    w = np.random.randint(1,101,10)\n",
    "    losses = []\n",
    "\n",
    "    w_n = np.random.randint(1,101,10)\n",
    "    max_diff = w_n - w\n",
    "    count = 0\n",
    "    while np.linalg.norm(max_diff) > epsilon:\n",
    "\n",
    "        if count == max_iters:\n",
    "            break\n",
    "        #Calculate the cost\n",
    "        loss = loss_func(X,w,y)\n",
    "        losses.append(loss)\n",
    "        \n",
    "        #Update parameter\n",
    "        w_n = w - alpha * derivative_func(X,w,y)\n",
    "        \n",
    "        max_diff = w_n - w\n",
    "        count += 1\n",
    "        \n",
    "        w = w_n\n",
    "                      \n",
    "    return w, losses"
   ]
  },
  {
   "cell_type": "code",
   "execution_count": 12,
   "metadata": {
    "colab": {},
    "colab_type": "code",
    "id": "mouSJhk3Mft0"
   },
   "outputs": [],
   "source": [
    "def loss_linreg(X, w, y):\n",
    "    \"\"\"\n",
    "    Evaluates the loss function\n",
    "    \n",
    "    Input:\n",
    "    X: n x m - n datapoints, m features\n",
    "    w: m length vector - weights for features in X\n",
    "    y: n length vector\n",
    "    \n",
    "    Output:\n",
    "    loss: scalar\n",
    "    \"\"\"\n",
    "    #TODO:\n",
    "    loss = np.dot((np.dot(X,w) - y).T,(np.dot(X,w) - y))\n",
    "    return loss\n"
   ]
  },
  {
   "cell_type": "code",
   "execution_count": 13,
   "metadata": {
    "colab": {},
    "colab_type": "code",
    "id": "y-nBBibeKjKl"
   },
   "outputs": [],
   "source": [
    "def derivative_loss_linreg(X, w, y):\n",
    "    \"\"\"\n",
    "    Finds the derivative of the loss function wrt w\n",
    "    \n",
    "    Input:\n",
    "    X: n x m - n datapoints, m features\n",
    "    w: m length vector - weights for features in X\n",
    "    y: n length vector\n",
    "\n",
    "    Output:\n",
    "    gradient: length m array - gradient wrt w\n",
    "    \"\"\"\n",
    "    #TODO:\n",
    "    grad = np.dot((2 * X.T), (np.dot(X,w) - y))\n",
    "\n",
    "    return grad\n"
   ]
  },
  {
   "cell_type": "markdown",
   "metadata": {
    "colab_type": "text",
    "id": "UCRPxQ4Rj9yU"
   },
   "source": [
    "### c. Run gradient descent with an appropriate step size."
   ]
  },
  {
   "cell_type": "code",
   "execution_count": 14,
   "metadata": {
    "colab": {},
    "colab_type": "code",
    "id": "lbtnhZq2sOWi"
   },
   "outputs": [],
   "source": [
    "# TODO: set an appropriate alpha\n",
    "alpha = 0.0005\n",
    "\n",
    "diabetes_w, losses = gd_linreg(diabetes_X_train, diabetes_y_train, alpha, loss_linreg, derivative_loss_linreg)"
   ]
  },
  {
   "cell_type": "code",
   "execution_count": 15,
   "metadata": {},
   "outputs": [
    {
     "name": "stdout",
     "output_type": "stream",
     "text": [
      "[ -51.0247113  -266.10080999  464.10634259  224.85328539  -98.37133083\n",
      "    7.40782805 -113.9843292    89.473852    478.86442929  263.35181685]\n",
      "10000\n"
     ]
    }
   ],
   "source": [
    "print(diabetes_w)\n",
    "print(len(losses))"
   ]
  },
  {
   "cell_type": "code",
   "execution_count": 16,
   "metadata": {
    "colab": {},
    "colab_type": "code",
    "id": "77vjAP4snO4q"
   },
   "outputs": [
    {
     "data": {
      "image/png": "[encoded data removed]",
      "text/plain": [
       "<Figure size 432x288 with 1 Axes>"
      ]
     },
     "metadata": {
      "needs_background": "light"
     },
     "output_type": "display_data"
    }
   ],
   "source": [
    "# Plot losses (may help find a good value for alpha)\n",
    "num_iter = len(losses)\n",
    "\n",
    "plt.title(\"Loss over Iterations of Gradient Descent\")\n",
    "plt.plot(range(1, num_iter+1), losses, c = 'orange');"
   ]
  },
  {
   "cell_type": "markdown",
   "metadata": {
    "colab_type": "text",
    "id": "XE5D5T_LpINE"
   },
   "source": [
    "## 3. Evaluate your Implementation\n",
    "\n",
    "### a. Find the loss for the training set and the test set using the weights found with gradient descent."
   ]
  },
  {
   "cell_type": "code",
   "execution_count": 17,
   "metadata": {
    "colab": {},
    "colab_type": "code",
    "id": "AKspdYBRtmLI"
   },
   "outputs": [
    {
     "name": "stdout",
     "output_type": "stream",
     "text": [
      "Method: Gradient Descent\n",
      "Training Loss: 26135.64255998853\n",
      "Test Loss: 24349.903144103577\n"
     ]
    }
   ],
   "source": [
    "# TODO:\n",
    "\n",
    "diabetes_test_w, test_losses = gd_linreg(diabetes_X_test, diabetes_y_test, alpha, loss_linreg, derivative_loss_linreg)\n",
    "\n",
    "gd_train_loss = np.min(losses)/diabetes_X_train.shape[0]\n",
    "gd_test_loss = np.min(test_losses)/diabetes_X_test.shape[0]\n",
    "\n",
    "print(\"Method: Gradient Descent\")\n",
    "print(\"Training Loss: \" + str(gd_train_loss))\n",
    "print(\"Test Loss: \" + str(gd_test_loss))"
   ]
  },
  {
   "cell_type": "markdown",
   "metadata": {
    "colab_type": "text",
    "id": "vUGxorrEtmnv"
   },
   "source": [
    "### b. Write and implement the OLS solution for w.\n",
    "\n",
    "The OLS solution sets the above found gradient of the loss wrt to w to 0 (from 2a) and solves for w.\n",
    "\n",
    "Answer: To solve for w, we set $$ ∇L(w) = 2X^T(Xw − y) = 0 $$   \n",
    "Moving things around we get: <br>\n",
    "$$2X^TXw - 2X^Ty = 0$$\n",
    "$$2X^TXw = 2X^T y $$\n",
    "$$ X^TXw = X^T y $$\n",
    "\n",
    "If X<sup>T</sup>X is full-rank, which usually happens when n ≥ m and there are no repeated input vectors—\n",
    "when the columns of X are linearly independent—then we can find w by solving the linear system:\n",
    "\n",
    "$$ w =(X^TX)^{-1} X^Ty $$\n",
    "\n",
    "TODO:\n",
    "\n"
   ]
  },
  {
   "cell_type": "code",
   "execution_count": 18,
   "metadata": {
    "colab": {},
    "colab_type": "code",
    "id": "mQX71SemiQiA"
   },
   "outputs": [],
   "source": [
    "def OLS(X, y):\n",
    "    \"\"\"\n",
    "    Finds OLS solution to linear regression of X and y\n",
    "\n",
    "    Input:\n",
    "    X: n x m - n datapoints, m features\n",
    "    y: n length vector\n",
    "\n",
    "    Output:\n",
    "    w: m length vector - weights for features in X\n",
    "    \"\"\"\n",
    "\n",
    "    # TODO:\n",
    "    w = np.dot(np.linalg.inv(np.dot(X.T,X)),np.dot(X.T,y))\n",
    "\n",
    "    return w\n"
   ]
  },
  {
   "cell_type": "code",
   "execution_count": 19,
   "metadata": {
    "colab": {},
    "colab_type": "code",
    "id": "getJfguQZ9co"
   },
   "outputs": [],
   "source": [
    "ols_w = OLS(diabetes_X_train, diabetes_y_train)\n",
    "ols_w1 = OLS(diabetes_X_test, diabetes_y_test)"
   ]
  },
  {
   "cell_type": "markdown",
   "metadata": {
    "colab_type": "text",
    "id": "9_MW7BW0jnf0"
   },
   "source": [
    "### c. Find the loss for the training set and the test set using the weights found with OLS."
   ]
  },
  {
   "cell_type": "code",
   "execution_count": 20,
   "metadata": {
    "colab": {},
    "colab_type": "code",
    "id": "2cOo2QbJbojD"
   },
   "outputs": [
    {
     "name": "stdout",
     "output_type": "stream",
     "text": [
      "Method: OLS\n",
      "Training Loss: 26041.948488716265\n",
      "Test Loss: 24166.778127978057\n"
     ]
    }
   ],
   "source": [
    "# TODO:\n",
    "ols_train_loss = (loss_linreg(diabetes_X_train,ols_w,diabetes_y_train))/diabetes_X_train.shape[0]\n",
    "ols_test_loss = (loss_linreg(diabetes_X_test,ols_w1,diabetes_y_test))/diabetes_X_test.shape[0]\n",
    "\n",
    "print(\"Method: OLS\")\n",
    "print(\"Training Loss: \" + str(ols_train_loss))\n",
    "print(\"Test Loss: \" + str(ols_test_loss))"
   ]
  }
 ],
 "metadata": {
  "colab": {
   "collapsed_sections": [],
   "name": "Assignment 5.ipynb",
   "provenance": []
  },
  "kernelspec": {
   "display_name": "Python 3",
   "language": "python",
   "name": "python3"
  },
  "language_info": {
   "codemirror_mode": {
    "name": "ipython",
    "version": 3
   },
   "file_extension": ".py",
   "mimetype": "text/x-python",
   "name": "python",
   "nbconvert_exporter": "python",
   "pygments_lexer": "ipython3",
   "version": "3.7.4"
  }
 },
 "nbformat": 4,
 "nbformat_minor": 1
}
